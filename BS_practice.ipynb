{
 "cells": [
  {
   "cell_type": "markdown",
   "metadata": {},
   "source": [
    "## Import Required Libraries"
   ]
  },
  {
   "cell_type": "code",
   "execution_count": 1,
   "metadata": {},
   "outputs": [],
   "source": [
    "import requests\n",
    "from bs4 import BeautifulSoup"
   ]
  },
  {
   "cell_type": "code",
   "execution_count": 2,
   "metadata": {
    "scrolled": false
   },
   "outputs": [
    {
     "name": "stdout",
     "output_type": "stream",
     "text": [
      "<!DOCTYPE html>\n",
      "\n",
      "<html>\n",
      "\n",
      "    <head>\n",
      "        <title>My First HTML Page</title>\n",
      "\n",
      "        <style>\n",
      "\n",
      "            p {\n",
      "                color: green;\n",
      "                \n",
      "            }\n",
      "\n",
      "            h1 {\n",
      "                color:blue;\n",
      "                text-shadow: 2px 2px 5px red;\n",
      "            }\n",
      "\n",
      "\n",
      "            img {\n",
      "                width: 200px;\n",
      "                height: 200px;\n",
      "            }\n",
      "\n",
      "\n",
      "            select {\n",
      "                width: 300px;\n",
      "                height: 50px;\n",
      "                background-color: orange;\n",
      "            }\n",
      "\n",
      "            div#bigred {\n",
      "                width: 100%%;\n",
      "                height: 200px;\n",
      "                background-color: red;\n",
      "                margin: 20px;\n",
      "                color: white;\n",
      "            }\n",
      "\n",
      "\n",
      "            div#smallblue {\n",
      "                width: 100%%;\n",
      "                height: 100px;\n",
      "                background-color: blue;\n",
      "                margin: 20px;\n",
      "                color: yellow;\n",
      "            }\n",
      "\n",
      "            li.redul {\n",
      "                color: red;\n",
      "            }\n",
      "\n",
      "            li.blueol {\n",
      "                color:blue;\n",
      "            }\n",
      "\n",
      "            .h2_orange {\n",
      "                color: orange;\n",
      "            }\n",
      "\n",
      "            .jupyter_img {\n",
      "                width: 200px;\n",
      "                height: 200px;\n",
      "                border: solid green 3px;\n",
      "            }\n",
      "\n",
      "            .bg-yellow {\n",
      "                background-color: yellow;\n",
      "            }\n",
      "\n",
      "        </style>\n",
      "\n",
      "    </head>\n",
      "\n",
      "\n",
      "    <body>\n",
      "\n",
      "        <p>Iam a paragrapph</p>\n",
      "\n",
      "        <br><hr><br>\n",
      "\n",
      "        <h1>My First H1 Header</h1>\n",
      "        <h1>My Second H1 Header</h1>\n",
      "\n",
      "        <h2 class=\"h2_orange bg-yellow\">My First H2 Header</h2>\n",
      "        <h2 class=\"h2_orange\">My Second H2 Header</h2>\n",
      "        <h2>My 3rd H2 Header</h2>\n",
      "\n",
      "\n",
      "        <br><hr><br>\n",
      "\n",
      "        <ul>\n",
      "            <li class='redul'> Milk </li>\n",
      "            <li class='redul'> Oranges </li>\n",
      "        </ul>\n",
      "\n",
      "        <br><hr><br>\n",
      "\n",
      "        <ol>\n",
      "            <li class='blueol'> Milk </li>\n",
      "            <li class='blueol'> Oranges </li>\n",
      "        </ol>\n",
      "\n",
      "        <br><hr><br>\n",
      "\n",
      "        <img src=\"my_img.png\" class=\"jupyter_img\">\n",
      "        \n",
      "        <br><hr><br>\n",
      "\n",
      "        <a href=\"http://www.google.com\">Go To Google</a>\n",
      "\n",
      "        <br><hr><br>\n",
      "\n",
      "        <form>\n",
      "            Username: <input type=\"text\" class=\"bg-yellow\">\n",
      "            <br><br>\n",
      "            Passowrd: <input type=\"password\">\n",
      "            <br><br>\n",
      "\n",
      "            <select>\n",
      "                <option value=\"volvo\">Volvo</option>\n",
      "                <option value=\"saab\">Saab</option>\n",
      "                <option value=\"fiat\">Fiat</option>\n",
      "                <option value=\"audi\">Audi</option>\n",
      "            </select>\n",
      "            <br><br>\n",
      "\n",
      "            <input type=\"checkbox\">\n",
      "            I agree for the terms\n",
      "            <br><br>\n",
      "\n",
      "            <input type=\"submit\" value=\"Search\">\n",
      "        </form>\n",
      "\n",
      "        <br><hr><br>\n",
      "\n",
      "        <table>\n",
      "            <tr>\n",
      "                <th>House Size</th>\n",
      "                <th>Num of Rooms</th>\n",
      "                <th class=\"bg-yellow\">Has Garden</th>\n",
      "                <th>Price</th>\n",
      "            </tr>\n",
      "            <tr>\n",
      "                <td>120</td>\n",
      "                <td>3</td>\n",
      "                <td>yes</td>\n",
      "                <td>500000</td>\n",
      "            </tr>\n",
      "            <tr>\n",
      "                <td>140</td>\n",
      "                <td>4</td>\n",
      "                <td class=\"bg-yellow\">no</td>\n",
      "                <td>750000</td>\n",
      "            </tr>\n",
      "            <tr>\n",
      "                <td>80</td>\n",
      "                <td>1</td>\n",
      "                <td>no</td>\n",
      "                <td>300000</td>\n",
      "            </tr>\n",
      "        </table>\n",
      "\n",
      "\n",
      "        <br><hr><br>\n",
      "        \n",
      "\n",
      "\n",
      "\n",
      "        <iframe width=\"420\" height=\"345\" src=\"https://www.youtube.com/embed/tgbNymZ7vqY\"></iframe>\n",
      "\n",
      "\n",
      "        <br><hr><br>\n",
      "\n",
      "\n",
      "        <div id='bigred'>\n",
      "            Hello world\n",
      "        </div>\n",
      "\n",
      "        <br><hr><br>\n",
      "\n",
      "\n",
      "        <div id=\"smallblue\">\n",
      "            Hello python\n",
      "            <p>Iam a paragrapph</p>\n",
      "        </div>\n",
      "\n",
      "\n",
      "        \n",
      "\n",
      "    </body>\n",
      "\n",
      "\n",
      "</html>\n",
      "\n",
      "\n"
     ]
    }
   ],
   "source": [
    "url = 'https://jekso.github.io/scrapping-example/index.html'\n",
    "response = requests.get(url)\n",
    "print(response.text)"
   ]
  },
  {
   "cell_type": "code",
   "execution_count": 3,
   "metadata": {},
   "outputs": [
    {
     "data": {
      "text/plain": [
       "str"
      ]
     },
     "execution_count": 3,
     "metadata": {},
     "output_type": "execute_result"
    }
   ],
   "source": [
    "type(response.text)"
   ]
  },
  {
   "cell_type": "code",
   "execution_count": 4,
   "metadata": {},
   "outputs": [
    {
     "data": {
      "text/plain": [
       "bs4.BeautifulSoup"
      ]
     },
     "execution_count": 4,
     "metadata": {},
     "output_type": "execute_result"
    }
   ],
   "source": [
    "soup = BeautifulSoup(response.text, 'html.parser')\n",
    "type(soup)"
   ]
  },
  {
   "cell_type": "markdown",
   "metadata": {},
   "source": [
    "## Get The Paragraph"
   ]
  },
  {
   "cell_type": "code",
   "execution_count": 5,
   "metadata": {},
   "outputs": [
    {
     "data": {
      "text/plain": [
       "<p>Iam a paragrapph</p>"
      ]
     },
     "execution_count": 5,
     "metadata": {},
     "output_type": "execute_result"
    }
   ],
   "source": [
    "paragraph = soup.find('p')\n",
    "paragraph"
   ]
  },
  {
   "cell_type": "code",
   "execution_count": 6,
   "metadata": {},
   "outputs": [
    {
     "data": {
      "text/plain": [
       "'Iam a paragrapph'"
      ]
     },
     "execution_count": 6,
     "metadata": {},
     "output_type": "execute_result"
    }
   ],
   "source": [
    "paragraph.get_text()"
   ]
  },
  {
   "cell_type": "code",
   "execution_count": 7,
   "metadata": {},
   "outputs": [
    {
     "data": {
      "text/plain": [
       "'IAM A PARAGRAPPH'"
      ]
     },
     "execution_count": 7,
     "metadata": {},
     "output_type": "execute_result"
    }
   ],
   "source": [
    "paragraph.get_text().upper()"
   ]
  },
  {
   "cell_type": "code",
   "execution_count": 8,
   "metadata": {},
   "outputs": [
    {
     "data": {
      "text/plain": [
       "[<p>Iam a paragrapph</p>, <p>Iam a paragrapph</p>]"
      ]
     },
     "execution_count": 8,
     "metadata": {},
     "output_type": "execute_result"
    }
   ],
   "source": [
    "all_p = soup.find_all('p')\n",
    "all_p"
   ]
  },
  {
   "cell_type": "code",
   "execution_count": 9,
   "metadata": {},
   "outputs": [
    {
     "data": {
      "text/plain": [
       "2"
      ]
     },
     "execution_count": 9,
     "metadata": {},
     "output_type": "execute_result"
    }
   ],
   "source": [
    "len(all_p)"
   ]
  },
  {
   "cell_type": "code",
   "execution_count": 10,
   "metadata": {},
   "outputs": [
    {
     "data": {
      "text/plain": [
       "<p>Iam a paragrapph</p>"
      ]
     },
     "execution_count": 10,
     "metadata": {},
     "output_type": "execute_result"
    }
   ],
   "source": [
    "all_p[0]"
   ]
  },
  {
   "cell_type": "code",
   "execution_count": 11,
   "metadata": {},
   "outputs": [
    {
     "data": {
      "text/plain": [
       "'Iam a paragrapph'"
      ]
     },
     "execution_count": 11,
     "metadata": {},
     "output_type": "execute_result"
    }
   ],
   "source": [
    "all_p[0].get_text()"
   ]
  },
  {
   "cell_type": "code",
   "execution_count": 13,
   "metadata": {},
   "outputs": [
    {
     "data": {
      "text/plain": [
       "[<h1>My First H1 Header</h1>, <h1>My Second H1 Header</h1>]"
      ]
     },
     "execution_count": 13,
     "metadata": {},
     "output_type": "execute_result"
    }
   ],
   "source": [
    "all_h1=soup.find_all('h1')\n",
    "all_h1"
   ]
  },
  {
   "cell_type": "code",
   "execution_count": 14,
   "metadata": {},
   "outputs": [
    {
     "data": {
      "text/plain": [
       "2"
      ]
     },
     "execution_count": 14,
     "metadata": {},
     "output_type": "execute_result"
    }
   ],
   "source": [
    "len(all_h1)"
   ]
  },
  {
   "cell_type": "code",
   "execution_count": 15,
   "metadata": {},
   "outputs": [
    {
     "name": "stdout",
     "output_type": "stream",
     "text": [
      "My First H1 Header\n",
      "My Second H1 Header\n"
     ]
    }
   ],
   "source": [
    "for i in(all_h1):\n",
    "          print(i.get_text())"
   ]
  },
  {
   "cell_type": "code",
   "execution_count": 16,
   "metadata": {},
   "outputs": [
    {
     "data": {
      "text/plain": [
       "[<h2 class=\"h2_orange bg-yellow\">My First H2 Header</h2>,\n",
       " <h2 class=\"h2_orange\">My Second H2 Header</h2>,\n",
       " <h2>My 3rd H2 Header</h2>]"
      ]
     },
     "execution_count": 16,
     "metadata": {},
     "output_type": "execute_result"
    }
   ],
   "source": [
    "all_h2=soup.find_all('h2')\n",
    "all_h2"
   ]
  },
  {
   "cell_type": "code",
   "execution_count": 19,
   "metadata": {},
   "outputs": [
    {
     "data": {
      "text/plain": [
       "<h2 class=\"h2_orange\">My Second H2 Header</h2>"
      ]
     },
     "execution_count": 19,
     "metadata": {},
     "output_type": "execute_result"
    }
   ],
   "source": [
    "all_h2_yellow=soup.find_all('h2', attrs= {\"class\":\"h2_orange\"})\n",
    "\n",
    "all_h2_yellow[1]\n"
   ]
  },
  {
   "cell_type": "code",
   "execution_count": 24,
   "metadata": {},
   "outputs": [
    {
     "data": {
      "text/plain": [
       "<h2>My 3rd H2 Header</h2>"
      ]
     },
     "execution_count": 24,
     "metadata": {},
     "output_type": "execute_result"
    }
   ],
   "source": [
    "all_h3=soup.find_all('h2')\n",
    "all_h3[2]"
   ]
  },
  {
   "cell_type": "code",
   "execution_count": 27,
   "metadata": {},
   "outputs": [
    {
     "data": {
      "text/plain": [
       "[<li class=\"redul\"> Milk </li>, <li class=\"redul\"> Oranges </li>]"
      ]
     },
     "execution_count": 27,
     "metadata": {},
     "output_type": "execute_result"
    }
   ],
   "source": [
    "ul_list=soup.find_all('li', attrs= {\"class\":\"redul\"})\n",
    "ul_list"
   ]
  },
  {
   "cell_type": "code",
   "execution_count": 34,
   "metadata": {},
   "outputs": [
    {
     "name": "stdout",
     "output_type": "stream",
     "text": [
      " Milk \n",
      " Oranges \n"
     ]
    }
   ],
   "source": [
    "for i in range(len(ul_list)):\n",
    "    print (ul_list[i].text)"
   ]
  },
  {
   "cell_type": "code",
   "execution_count": 38,
   "metadata": {},
   "outputs": [
    {
     "data": {
      "text/plain": [
       "<a href=\"http://www.google.com\">Go To Google</a>"
      ]
     },
     "execution_count": 38,
     "metadata": {},
     "output_type": "execute_result"
    }
   ],
   "source": [
    "go_to_google=soup.find(\"a\")\n",
    "\n",
    "go_to_google"
   ]
  },
  {
   "cell_type": "code",
   "execution_count": 40,
   "metadata": {},
   "outputs": [
    {
     "data": {
      "text/plain": [
       "'http://www.google.com'"
      ]
     },
     "execution_count": 40,
     "metadata": {},
     "output_type": "execute_result"
    }
   ],
   "source": [
    "go_to_google.attrs['href']"
   ]
  }
 ],
 "metadata": {
  "kernelspec": {
   "display_name": "Python 3",
   "language": "python",
   "name": "python3"
  },
  "language_info": {
   "codemirror_mode": {
    "name": "ipython",
    "version": 3
   },
   "file_extension": ".py",
   "mimetype": "text/x-python",
   "name": "python",
   "nbconvert_exporter": "python",
   "pygments_lexer": "ipython3",
   "version": "3.7.6"
  }
 },
 "nbformat": 4,
 "nbformat_minor": 5
}
